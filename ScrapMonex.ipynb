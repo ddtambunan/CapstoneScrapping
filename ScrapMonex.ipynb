{
 "cells": [
  {
   "cell_type": "markdown",
   "metadata": {},
   "source": [
    "## WEB Scraping menggunakan Phyton (BeautifulSoup)"
   ]
  },
  {
   "cell_type": "markdown",
   "metadata": {},
   "source": [
    "Proyek ini melakukan ekstraksi data(scrap) dari website https://monexnews.com/kurs-valuta-asing.htm?kurs=JPY. Data dalam bentuk HTML akan diolah dengan menggunakan package BeautifulSoup dan akan divisualisasi menggunakan matplotlib. Dengan catatan, website ini diredirec ke https://news.mifx.com/kurs-valuta-asing?kurs=JPY&searchdatefrom=01-01-2019&searchdateto=31-12-2019."
   ]
  },
  {
   "cell_type": "code",
   "execution_count": 140,
   "metadata": {},
   "outputs": [
    {
     "ename": "ModuleNotFoundError",
     "evalue": "No module named 'dateparser'",
     "output_type": "error",
     "traceback": [
      "\u001b[1;31m---------------------------------------------------------------------------\u001b[0m",
      "\u001b[1;31mModuleNotFoundError\u001b[0m                       Traceback (most recent call last)",
      "\u001b[1;32m<ipython-input-140-033490a8ce7d>\u001b[0m in \u001b[0;36m<module>\u001b[1;34m\u001b[0m\n\u001b[0;32m      3\u001b[0m \u001b[1;32mfrom\u001b[0m \u001b[0mbs4\u001b[0m \u001b[1;32mimport\u001b[0m \u001b[0mBeautifulSoup\u001b[0m\u001b[1;33m\u001b[0m\u001b[1;33m\u001b[0m\u001b[0m\n\u001b[0;32m      4\u001b[0m \u001b[1;32mimport\u001b[0m \u001b[0mpandas\u001b[0m \u001b[1;32mas\u001b[0m \u001b[0mpd\u001b[0m\u001b[1;33m\u001b[0m\u001b[1;33m\u001b[0m\u001b[0m\n\u001b[1;32m----> 5\u001b[1;33m \u001b[1;32mimport\u001b[0m \u001b[0mdateparser\u001b[0m\u001b[1;33m\u001b[0m\u001b[1;33m\u001b[0m\u001b[0m\n\u001b[0m",
      "\u001b[1;31mModuleNotFoundError\u001b[0m: No module named 'dateparser'"
     ]
    }
   ],
   "source": [
    "#Daftar Package yang digunakan\n",
    "import requests\n",
    "from bs4 import BeautifulSoup \n",
    "import pandas as pd\n",
    "import dateparser"
   ]
  },
  {
   "cell_type": "code",
   "execution_count": 85,
   "metadata": {},
   "outputs": [],
   "source": [
    "#syntax ini bertujuan untuk mengirimkan request http menggunakan Python\n",
    "url_get = requests.get('https://news.mifx.com/kurs-valuta-asing?kurs=JPY&searchdatefrom=01-01-2019&searchdateto=31-12-2019')"
   ]
  },
  {
   "cell_type": "code",
   "execution_count": 88,
   "metadata": {},
   "outputs": [],
   "source": [
    "#data dalam format html atau xml dari link di atas, di parsing ke variable soup\n",
    "soup = BeautifulSoup(url_get.content,\"html.parser\")"
   ]
  },
  {
   "cell_type": "code",
   "execution_count": 90,
   "metadata": {},
   "outputs": [
    {
     "name": "stdout",
     "output_type": "stream",
     "text": [
      "<table cellpadding=\"10\" cellspacing=\"0\" class=\"centerText newsTable2\" width=\"100%\">\n",
      " <tr class=\"colorWhite fontsize14 firstRow\">\n",
      "  <td>\n",
      "   TANGGAL\n",
      "  </td>\n",
      "  <td>\n",
      "   ASK\n",
      "  </td>\n",
      "  <td>\n",
      "   BID\n",
      "  </td>\n",
      " </tr>\n",
      " <tr class=\"verySoftGreyBg\">\n",
      "  <td>\n",
      "   31 Desember 2019\n",
      "  </td>\n",
      "  <td>\n",
      "   128,62\n",
      "  </td>\n",
      "  <td>\n",
      "   127,32\n",
      "  </td>\n",
      " </tr>\n",
      " <tr>\n",
      "  <td>\n",
      "   30 Desember 2019\n",
      "  </td>\n",
      "  <td>\n",
      "   128,30\n",
      "  </td>\n",
      "  <td>\n",
      "\n"
     ]
    }
   ],
   "source": [
    "# syntax ini digunakan untuk mengecek hasil parsing html yang diperoleh\n",
    "# dan melakukan filter html data yang memiliki tag <table></table> dengan urutan ke 3 (index=2).\n",
    "# pada halaman website tersebut terdapat beberapa table, hasil filter ditampung pada variable \"table_result\"\n",
    "table_result = soup.find_all('table')[2]\n",
    "print(table_result.prettify()[:400])  #digunakan untuk menampilkan sebagian data html sehingga lebih mudah dibaca"
   ]
  },
  {
   "cell_type": "code",
   "execution_count": 122,
   "metadata": {},
   "outputs": [
    {
     "data": {
      "text/html": [
       "<div>\n",
       "<style scoped>\n",
       "    .dataframe tbody tr th:only-of-type {\n",
       "        vertical-align: middle;\n",
       "    }\n",
       "\n",
       "    .dataframe tbody tr th {\n",
       "        vertical-align: top;\n",
       "    }\n",
       "\n",
       "    .dataframe thead th {\n",
       "        text-align: right;\n",
       "    }\n",
       "</style>\n",
       "<table border=\"1\" class=\"dataframe\">\n",
       "  <thead>\n",
       "    <tr style=\"text-align: right;\">\n",
       "      <th></th>\n",
       "      <th>TANGGAL</th>\n",
       "      <th>JUAL</th>\n",
       "      <th>BELI</th>\n",
       "    </tr>\n",
       "  </thead>\n",
       "  <tbody>\n",
       "    <tr>\n",
       "      <th>1</th>\n",
       "      <td>31 Desember 2019</td>\n",
       "      <td>12862</td>\n",
       "      <td>12732</td>\n",
       "    </tr>\n",
       "    <tr>\n",
       "      <th>2</th>\n",
       "      <td>30 Desember 2019</td>\n",
       "      <td>12830</td>\n",
       "      <td>12702</td>\n",
       "    </tr>\n",
       "    <tr>\n",
       "      <th>3</th>\n",
       "      <td>27 Desember 2019</td>\n",
       "      <td>12811</td>\n",
       "      <td>12683</td>\n",
       "    </tr>\n",
       "    <tr>\n",
       "      <th>4</th>\n",
       "      <td>26 Desember 2019</td>\n",
       "      <td>12827</td>\n",
       "      <td>12698</td>\n",
       "    </tr>\n",
       "    <tr>\n",
       "      <th>5</th>\n",
       "      <td>23 Desember 2019</td>\n",
       "      <td>12839</td>\n",
       "      <td>12710</td>\n",
       "    </tr>\n",
       "  </tbody>\n",
       "</table>\n",
       "</div>"
      ],
      "text/plain": [
       "            TANGGAL   JUAL   BELI\n",
       "1  31 Desember 2019  12862  12732\n",
       "2  30 Desember 2019  12830  12702\n",
       "3  27 Desember 2019  12811  12683\n",
       "4  26 Desember 2019  12827  12698\n",
       "5  23 Desember 2019  12839  12710"
      ]
     },
     "execution_count": 122,
     "metadata": {},
     "output_type": "execute_result"
    }
   ],
   "source": [
    "#data html yang sudah di filter dikonversi menjadi dataframe(df) agar dapat diolah lebih lanjut menggunakan pandas\n",
    "#read_html adalah methode yang dapat digunakan untuk melakukan konversi langsung html ke dataframe.\n",
    "df = pd.read_html(str(table_result))[0] \n",
    "# mengubah nama kolom table_result dimana index 0:Tanggal 1: ASK 2:BID\n",
    "df.rename(columns={0:'TANGGAL',1:'JUAL',2:'BELI'},inplace=True)  \n",
    "df.drop([0], inplace = True) #menghapus baris pertama, karena merupakan judul kolom di HTML(bukan bagian data kurs)\n",
    "df.head()"
   ]
  },
  {
   "cell_type": "code",
   "execution_count": 123,
   "metadata": {},
   "outputs": [
    {
     "data": {
      "text/plain": [
       "TANGGAL    object\n",
       "JUAL       object\n",
       "BELI       object\n",
       "dtype: object"
      ]
     },
     "execution_count": 123,
     "metadata": {},
     "output_type": "execute_result"
    }
   ],
   "source": [
    "df.dtypes # melakukan pengecekan jenis variable yang digunakan masih berupa object"
   ]
  },
  {
   "cell_type": "code",
   "execution_count": 124,
   "metadata": {},
   "outputs": [],
   "source": [
    "#Mengubah data harga jual & beli menjadi float\n",
    "df[['JUAL','BELI']]= df[['JUAL','BELI']].astype('float')\n",
    "#Membagi data harga jual & beli menjadi 2 dibelakang koma (dibagi 100)\n",
    "df['JUAL'] = df['JUAL']/100\n",
    "df['BELI'] = df['BELI']/100"
   ]
  },
  {
   "cell_type": "code",
   "execution_count": 131,
   "metadata": {},
   "outputs": [
    {
     "data": {
      "text/plain": [
       "count    246.000000\n",
       "mean     130.523293\n",
       "std        2.237668\n",
       "min      125.840000\n",
       "25%      128.725000\n",
       "50%      130.215000\n",
       "75%      132.027500\n",
       "max      136.200000\n",
       "Name: JUAL, dtype: float64"
      ]
     },
     "execution_count": 131,
     "metadata": {},
     "output_type": "execute_result"
    }
   ],
   "source": [
    "# digunakan untuk menganalisa hasil statistik dasar dari data kurs pada kolom JUAL.\n",
    "# Terdapat beberapa data pencilan atas dan bawah\n",
    "# Kondisi keseluruhan data relatif normal karena Q1 & Q3 masih dalam range mean +standar deviasi\n",
    "df.JUAL.describe()"
   ]
  },
  {
   "cell_type": "code",
   "execution_count": 127,
   "metadata": {},
   "outputs": [
    {
     "data": {
      "text/plain": [
       "count    246.000000\n",
       "mean     129.196667\n",
       "std        2.213848\n",
       "min      124.550000\n",
       "25%      127.407500\n",
       "50%      128.895000\n",
       "75%      130.687500\n",
       "max      134.810000\n",
       "Name: BELI, dtype: float64"
      ]
     },
     "execution_count": 127,
     "metadata": {},
     "output_type": "execute_result"
    }
   ],
   "source": [
    "# digunakan untuk menganalisa hasil statistik dasar dari data kurs pada kolom BELI.\n",
    "# Terdapat beberapa data pencilan atas dimana mean + standard deviasi lebih kecil dibanding nilai maksimum \n",
    "# Kondisi keseluruhan data normal karena Q1 & Q3 masih dalam range mean +standar deviasi\n",
    "df.BELI.describe()"
   ]
  },
  {
   "cell_type": "code",
   "execution_count": 132,
   "metadata": {},
   "outputs": [
    {
     "data": {
      "text/plain": [
       "count    246.000000\n",
       "mean     129.196667\n",
       "std        2.213848\n",
       "min      124.550000\n",
       "25%      127.407500\n",
       "50%      128.895000\n",
       "75%      130.687500\n",
       "max      134.810000\n",
       "Name: BELI, dtype: float64"
      ]
     },
     "execution_count": 132,
     "metadata": {},
     "output_type": "execute_result"
    }
   ],
   "source": [
    "# digunakan untuk menganalisa hasil statistik dasar dari data kurs seluruh data pada dataframe df.\n",
    "# Kondisi keseluruhan data normal karena Q1 & Q3 masih dalam range mean +standar deviasi\n",
    "df.BELI.describe()"
   ]
  },
  {
   "cell_type": "code",
   "execution_count": 133,
   "metadata": {},
   "outputs": [
    {
     "data": {
      "text/plain": [
       "<matplotlib.axes._subplots.AxesSubplot at 0x253dd23bc88>"
      ]
     },
     "execution_count": 133,
     "metadata": {},
     "output_type": "execute_result"
    },
    {
     "data": {
      "image/png": "[encoded data removed]",
      "text/plain": [
       "<Figure size 432x288 with 1 Axes>"
      ]
     },
     "metadata": {
      "needs_background": "light"
     },
     "output_type": "display_data"
    }
   ],
   "source": [
    "df.plot.line()"
   ]
  }
 ],
 "metadata": {
  "kernelspec": {
   "display_name": "Python 3",
   "language": "python",
   "name": "python3"
  },
  "language_info": {
   "codemirror_mode": {
    "name": "ipython",
    "version": 3
   },
   "file_extension": ".py",
   "mimetype": "text/x-python",
   "name": "python",
   "nbconvert_exporter": "python",
   "pygments_lexer": "ipython3",
   "version": "3.7.6"
  },
  "toc": {
   "base_numbering": 1,
   "nav_menu": {},
   "number_sections": true,
   "sideBar": true,
   "skip_h1_title": false,
   "title_cell": "Table of Contents",
   "title_sidebar": "Contents",
   "toc_cell": false,
   "toc_position": {},
   "toc_section_display": true,
   "toc_window_display": false
  }
 },
 "nbformat": 4,
 "nbformat_minor": 4
}
